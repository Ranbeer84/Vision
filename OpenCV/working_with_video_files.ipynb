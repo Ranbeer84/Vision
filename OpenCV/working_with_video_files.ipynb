{
 "cells": [
  {
   "cell_type": "code",
   "execution_count": 6,
   "id": "deff989c",
   "metadata": {},
   "outputs": [],
   "source": [
    "import cv2"
   ]
  },
  {
   "cell_type": "code",
   "execution_count": 7,
   "id": "fa75e0e0",
   "metadata": {},
   "outputs": [],
   "source": [
    "# Load the video\n",
    "video = cv2.VideoCapture('videos/mountain.mp4')"
   ]
  },
  {
   "cell_type": "code",
   "execution_count": null,
   "id": "08fde0e6",
   "metadata": {},
   "outputs": [
    {
     "ename": "",
     "evalue": "",
     "output_type": "error",
     "traceback": [
      "\u001b[1;31mThe Kernel crashed while executing code in the current cell or a previous cell. \n",
      "\u001b[1;31mPlease review the code in the cell(s) to identify a possible cause of the failure. \n",
      "\u001b[1;31mClick <a href='https://aka.ms/vscodeJupyterKernelCrash'>here</a> for more info. \n",
      "\u001b[1;31mView Jupyter <a href='command:jupyter.viewOutput'>log</a> for further details."
     ]
    }
   ],
   "source": [
    "# Display the video\n",
    "# It plays a video frame-by-frame using OpenCV until either the video ends or the user presses ‘q’ to quit.\n",
    "\n",
    "while True:\n",
    "    ret, frame = video.read() # Read the next frame\n",
    "    if not ret:\n",
    "        break # Exit loop if frame is not read (end of video)\n",
    "    cv2.imshow(\"Video Frame\", frame) # Show the frame in a window\n",
    "    if cv2.waitKey(1) & 0xFF == ord('q'): # Wait 1 ms for key press\n",
    "        break # Exit if 'q' is pressed\n",
    "\n",
    "# T0 ---> f1\n",
    "# wait 1 ms\n",
    "# # T1 ---> f2\n",
    "\n",
    "video.release() # Release video resource\n",
    "cv2.destroyAllWindows() # Close all OpenCV windows\n",
    "\n",
    "#\t•\tret: Boolean indicating if frame reading was successful.\n",
    "#\t•\tcv2.waitKey(1): Waits 1 millisecond between frames (mimics real-time playback).\n",
    "#\t•\t& 0xFF == ord('q'): Checks if the ‘q’ key was pressed."
   ]
  },
  {
   "cell_type": "code",
   "execution_count": 10,
   "id": "53083dd4",
   "metadata": {},
   "outputs": [],
   "source": [
    "# Write a video \n",
    "# Copy or process a video frame-by-frame and save it to a new file.\n",
    "\n",
    "video = cv2.VideoCapture('videos/mountain.mp4') # Opens the input video file for reading.\n",
    "\n",
    "fourcc = cv2.VideoWriter_fourcc(*\"mp4v\") # Specifies the codec (here, MP4 codec 'mp4v') used to encode the output video.\n",
    "# Gets the frame dimensions of the input video.\n",
    "width = int(video.get(cv2.CAP_PROP_FRAME_WIDTH))\n",
    "height = int(video.get(cv2.CAP_PROP_FRAME_HEIGHT))\n",
    "# Creates a VideoWriter object to write frames to output.mp4 at 30 FPS.\n",
    "out = cv2.VideoWriter(\"videos/output.mp4\", fourcc, 30, (width, height))\n",
    "#\tContinuously reads each frame from the input video and writes it to the output.\n",
    "#\tStops when there are no more frames (ret == False).\n",
    "while True:\n",
    "    ret, frame = video.read()\n",
    "    if not ret:\n",
    "        break\n",
    "    out.write(frame)\n",
    "# Releases video writer and reader resources and closes any OpenCV windows.\n",
    "out.release()\n",
    "video.release()\n",
    "cv2.destroyAllWindows()"
   ]
  },
  {
   "cell_type": "code",
   "execution_count": 11,
   "id": "97a1dd03",
   "metadata": {},
   "outputs": [
    {
     "name": "stderr",
     "output_type": "stream",
     "text": [
      "OpenCV: Couldn't read video stream from file \"videos./mountain.mp4\"\n"
     ]
    }
   ],
   "source": [
    "# Write a video with updated frames\n",
    "\n",
    "video = cv2.VideoCapture('videos./mountain.mp4')\n",
    "\n",
    "fourcc = cv2.VideoWriter_fourcc(*\"mp4v\")\n",
    "\n",
    "width = int(video.get(cv2.CAP_PROP_FRAME_WIDTH))\n",
    "height = int(video.get(cv2.CAP_PROP_FRAME_HEIGHT))\n",
    "\n",
    "out = cv2.VideoWriter(\"videos/output_new.mp4\", fourcc, 30, (width, height))\n",
    "\n",
    "while True:\n",
    "    ret, frame = video.read()\n",
    "    if not ret:\n",
    "        break\n",
    "    frame = frame + 20\n",
    "    out.write(frame)\n",
    "\n",
    "out.release()\n",
    "video.release()\n",
    "cv2.destroyAllWindows()"
   ]
  }
 ],
 "metadata": {
  "kernelspec": {
   "display_name": "opencv-env",
   "language": "python",
   "name": "python3"
  },
  "language_info": {
   "codemirror_mode": {
    "name": "ipython",
    "version": 3
   },
   "file_extension": ".py",
   "mimetype": "text/x-python",
   "name": "python",
   "nbconvert_exporter": "python",
   "pygments_lexer": "ipython3",
   "version": "3.12.11"
  }
 },
 "nbformat": 4,
 "nbformat_minor": 5
}
